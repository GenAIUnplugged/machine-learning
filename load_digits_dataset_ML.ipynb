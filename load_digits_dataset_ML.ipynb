{
  "nbformat": 4,
  "nbformat_minor": 0,
  "metadata": {
    "colab": {
      "provenance": [],
      "authorship_tag": "ABX9TyNx6tsrR7wjxC7s1UHtGrvU",
      "include_colab_link": true
    },
    "kernelspec": {
      "name": "python3",
      "display_name": "Python 3"
    },
    "language_info": {
      "name": "python"
    }
  },
  "cells": [
    {
      "cell_type": "markdown",
      "metadata": {
        "id": "view-in-github",
        "colab_type": "text"
      },
      "source": [
        "<a href=\"https://colab.research.google.com/github/GenAIUnplugged/machine-learning/blob/main/load_digits_dataset_ML.ipynb\" target=\"_parent\"><img src=\"https://colab.research.google.com/assets/colab-badge.svg\" alt=\"Open In Colab\"/></a>"
      ]
    },
    {
      "cell_type": "code",
      "execution_count": null,
      "metadata": {
        "id": "YIKSiaU2SL9g"
      },
      "outputs": [],
      "source": [
        "from sklearn.preprocessing import StandardScaler\n",
        "from sklearn.model_selection import train_test_split\n",
        "from sklearn.metrics import accuracy_score,classification_report,confusion_matrix\n",
        "from sklearn.datasets import load_digits\n",
        "import matplotlib.pyplot as plt\n",
        "import seaborn as sns\n",
        "import pandas as pd\n",
        "import numpy as np\n",
        "from sklearn.model_selection import train_test_split,GridSearchCV,RandomizedSearchCV\n",
        "from sklearn.linear_model import LogisticRegression\n",
        "from sklearn.neighbors import KNeighborsClassifier\n",
        "from sklearn.tree import DecisionTreeClassifier\n",
        "from sklearn.ensemble import RandomForestClassifier"
      ]
    },
    {
      "cell_type": "code",
      "source": [
        "X,y = load_digits(return_X_y=True)"
      ],
      "metadata": {
        "id": "l28VeecYSkm3"
      },
      "execution_count": null,
      "outputs": []
    },
    {
      "cell_type": "code",
      "source": [
        "X.shape,y.shape"
      ],
      "metadata": {
        "colab": {
          "base_uri": "https://localhost:8080/"
        },
        "id": "kTWK8UCTTKSd",
        "outputId": "9fada683-7e03-46cd-8e63-1f76c3b3376d"
      },
      "execution_count": null,
      "outputs": [
        {
          "output_type": "execute_result",
          "data": {
            "text/plain": [
              "((1797, 64), (1797,))"
            ]
          },
          "metadata": {},
          "execution_count": 7
        }
      ]
    },
    {
      "cell_type": "code",
      "source": [
        "type(X),type(y)"
      ],
      "metadata": {
        "colab": {
          "base_uri": "https://localhost:8080/"
        },
        "id": "zHl9LHcHTMZ3",
        "outputId": "71fb3a5e-5753-45ee-9f95-a417b0efcd9f"
      },
      "execution_count": null,
      "outputs": [
        {
          "output_type": "execute_result",
          "data": {
            "text/plain": [
              "(numpy.ndarray, numpy.ndarray)"
            ]
          },
          "metadata": {},
          "execution_count": 10
        }
      ]
    },
    {
      "cell_type": "code",
      "source": [
        "x_train,x_test,y_train,y_test = train_test_split(X,y,test_size=0.2,random_state=42)"
      ],
      "metadata": {
        "id": "qjXi8a7-TPXi"
      },
      "execution_count": null,
      "outputs": []
    },
    {
      "cell_type": "code",
      "source": [
        "x_train.shape,x_test.shape,y_train.shape,y_test.shape"
      ],
      "metadata": {
        "colab": {
          "base_uri": "https://localhost:8080/"
        },
        "id": "02KKuAC_TX65",
        "outputId": "f6e2937a-7766-43ec-a4cc-b8666eeecea5"
      },
      "execution_count": null,
      "outputs": [
        {
          "output_type": "execute_result",
          "data": {
            "text/plain": [
              "((1437, 64), (360, 64), (1437,), (360,))"
            ]
          },
          "metadata": {},
          "execution_count": 12
        }
      ]
    },
    {
      "cell_type": "code",
      "source": [
        "def get_metrics(x_train,y_train,x_test,y_test,model_name,model):\n",
        "    print(f\"Model Name: {model_name}\")\n",
        "    model=model\n",
        "    model.fit(x_train,y_train)\n",
        "    y_pred = rf.predict(x_test)\n",
        "    print(\"*\"*50)\n",
        "    print(f\"Testing Score: {model.score(x_test,y_test)}\")\n",
        "    print(f\"Training Score: {model.score(x_train,y_train)}\")\n",
        "    print(f\"Accuracy Score: {accuracy_score(y_test,y_pred)}\")\n",
        "    print(classification_report(y_test,y_pred))\n",
        "    print(confusion_matrix(y_test,y_pred))\n",
        "    print(\"*\"*50)"
      ],
      "metadata": {
        "id": "3MHUICa1TwRM"
      },
      "execution_count": null,
      "outputs": []
    },
    {
      "cell_type": "code",
      "source": [
        "rf = RandomForestClassifier(n_estimators=1000,random_state=42)\n",
        "get_metrics(x_train,y_train,x_test,y_pred,\"Random Forest\",rf)"
      ],
      "metadata": {
        "colab": {
          "base_uri": "https://localhost:8080/"
        },
        "id": "ElnrZOyXTZjI",
        "outputId": "37920c31-c62c-4a28-bdb6-d98f6dde169d"
      },
      "execution_count": null,
      "outputs": [
        {
          "output_type": "stream",
          "name": "stdout",
          "text": [
            "Model Name: Random Forest\n",
            "**************************************************\n",
            "Testing Score: 1.0\n",
            "Training Score: 1.0\n",
            "Accuracy Score: 1.0\n",
            "              precision    recall  f1-score   support\n",
            "\n",
            "           0       1.00      1.00      1.00        32\n",
            "           1       1.00      1.00      1.00        29\n",
            "           2       1.00      1.00      1.00        33\n",
            "           3       1.00      1.00      1.00        33\n",
            "           4       1.00      1.00      1.00        47\n",
            "           5       1.00      1.00      1.00        49\n",
            "           6       1.00      1.00      1.00        35\n",
            "           7       1.00      1.00      1.00        34\n",
            "           8       1.00      1.00      1.00        29\n",
            "           9       1.00      1.00      1.00        39\n",
            "\n",
            "    accuracy                           1.00       360\n",
            "   macro avg       1.00      1.00      1.00       360\n",
            "weighted avg       1.00      1.00      1.00       360\n",
            "\n",
            "[[32  0  0  0  0  0  0  0  0  0]\n",
            " [ 0 29  0  0  0  0  0  0  0  0]\n",
            " [ 0  0 33  0  0  0  0  0  0  0]\n",
            " [ 0  0  0 33  0  0  0  0  0  0]\n",
            " [ 0  0  0  0 47  0  0  0  0  0]\n",
            " [ 0  0  0  0  0 49  0  0  0  0]\n",
            " [ 0  0  0  0  0  0 35  0  0  0]\n",
            " [ 0  0  0  0  0  0  0 34  0  0]\n",
            " [ 0  0  0  0  0  0  0  0 29  0]\n",
            " [ 0  0  0  0  0  0  0  0  0 39]]\n",
            "**************************************************\n"
          ]
        }
      ]
    },
    {
      "cell_type": "code",
      "source": [
        "dtc = DecisionTreeClassifier()\n",
        "get_metrics(x_train,y_train,x_test,y_pred,\"Decision Tree\",dtc)"
      ],
      "metadata": {
        "colab": {
          "base_uri": "https://localhost:8080/"
        },
        "id": "9rzfzlaWUAAM",
        "outputId": "2804affa-9f3d-4314-b7e1-ba73a06bb04b"
      },
      "execution_count": null,
      "outputs": [
        {
          "output_type": "stream",
          "name": "stdout",
          "text": [
            "Model Name: Decision Tree\n",
            "**************************************************\n",
            "Testing Score: 0.8638888888888889\n",
            "Training Score: 1.0\n",
            "Accuracy Score: 1.0\n",
            "              precision    recall  f1-score   support\n",
            "\n",
            "           0       1.00      1.00      1.00        32\n",
            "           1       1.00      1.00      1.00        29\n",
            "           2       1.00      1.00      1.00        33\n",
            "           3       1.00      1.00      1.00        33\n",
            "           4       1.00      1.00      1.00        47\n",
            "           5       1.00      1.00      1.00        49\n",
            "           6       1.00      1.00      1.00        35\n",
            "           7       1.00      1.00      1.00        34\n",
            "           8       1.00      1.00      1.00        29\n",
            "           9       1.00      1.00      1.00        39\n",
            "\n",
            "    accuracy                           1.00       360\n",
            "   macro avg       1.00      1.00      1.00       360\n",
            "weighted avg       1.00      1.00      1.00       360\n",
            "\n",
            "[[32  0  0  0  0  0  0  0  0  0]\n",
            " [ 0 29  0  0  0  0  0  0  0  0]\n",
            " [ 0  0 33  0  0  0  0  0  0  0]\n",
            " [ 0  0  0 33  0  0  0  0  0  0]\n",
            " [ 0  0  0  0 47  0  0  0  0  0]\n",
            " [ 0  0  0  0  0 49  0  0  0  0]\n",
            " [ 0  0  0  0  0  0 35  0  0  0]\n",
            " [ 0  0  0  0  0  0  0 34  0  0]\n",
            " [ 0  0  0  0  0  0  0  0 29  0]\n",
            " [ 0  0  0  0  0  0  0  0  0 39]]\n",
            "**************************************************\n"
          ]
        }
      ]
    },
    {
      "cell_type": "code",
      "source": [
        "knc = KNeighborsClassifier()\n",
        "get_metrics(x_train,y_train,x_test,y_pred,\"KNN\",knc)"
      ],
      "metadata": {
        "colab": {
          "base_uri": "https://localhost:8080/"
        },
        "id": "isAKIz9NWhac",
        "outputId": "09c1a98d-06d1-4033-ee76-405a25281359"
      },
      "execution_count": null,
      "outputs": [
        {
          "output_type": "stream",
          "name": "stdout",
          "text": [
            "Model Name: KNN\n",
            "**************************************************\n",
            "Testing Score: 0.9833333333333333\n",
            "Training Score: 0.9895615866388309\n",
            "Accuracy Score: 1.0\n",
            "              precision    recall  f1-score   support\n",
            "\n",
            "           0       1.00      1.00      1.00        32\n",
            "           1       1.00      1.00      1.00        29\n",
            "           2       1.00      1.00      1.00        33\n",
            "           3       1.00      1.00      1.00        33\n",
            "           4       1.00      1.00      1.00        47\n",
            "           5       1.00      1.00      1.00        49\n",
            "           6       1.00      1.00      1.00        35\n",
            "           7       1.00      1.00      1.00        34\n",
            "           8       1.00      1.00      1.00        29\n",
            "           9       1.00      1.00      1.00        39\n",
            "\n",
            "    accuracy                           1.00       360\n",
            "   macro avg       1.00      1.00      1.00       360\n",
            "weighted avg       1.00      1.00      1.00       360\n",
            "\n",
            "[[32  0  0  0  0  0  0  0  0  0]\n",
            " [ 0 29  0  0  0  0  0  0  0  0]\n",
            " [ 0  0 33  0  0  0  0  0  0  0]\n",
            " [ 0  0  0 33  0  0  0  0  0  0]\n",
            " [ 0  0  0  0 47  0  0  0  0  0]\n",
            " [ 0  0  0  0  0 49  0  0  0  0]\n",
            " [ 0  0  0  0  0  0 35  0  0  0]\n",
            " [ 0  0  0  0  0  0  0 34  0  0]\n",
            " [ 0  0  0  0  0  0  0  0 29  0]\n",
            " [ 0  0  0  0  0  0  0  0  0 39]]\n",
            "**************************************************\n"
          ]
        }
      ]
    },
    {
      "cell_type": "code",
      "source": [
        "lr = LogisticRegression()\n",
        "# Scale the data\n",
        "scaler = StandardScaler()\n",
        "x_train_scaled = scaler.fit_transform(x_train)\n",
        "x_test_scaled = scaler.transform(x_test)\n",
        "get_metrics(x_train_scaled,y_train,x_test_scaled,y_pred,\"Logistic Regression\",lr)"
      ],
      "metadata": {
        "colab": {
          "base_uri": "https://localhost:8080/"
        },
        "id": "gAPdSJ71WkNX",
        "outputId": "13a0b89b-7bd9-49c7-8885-6603afbec3b6"
      },
      "execution_count": null,
      "outputs": [
        {
          "output_type": "stream",
          "name": "stdout",
          "text": [
            "Model Name: Logistic Regression\n",
            "**************************************************\n",
            "Testing Score: 0.975\n",
            "Training Score: 0.9986082115518441\n",
            "Accuracy Score: 0.35\n",
            "              precision    recall  f1-score   support\n",
            "\n",
            "           0       0.00      0.00      0.00        32\n",
            "           1       0.33      0.66      0.44        29\n",
            "           2       0.50      0.03      0.06        33\n",
            "           3       0.52      0.39      0.45        33\n",
            "           4       0.55      0.13      0.21        47\n",
            "           5       0.30      0.88      0.45        49\n",
            "           6       0.00      0.00      0.00        35\n",
            "           7       0.28      0.85      0.43        34\n",
            "           8       0.00      0.00      0.00        29\n",
            "           9       0.79      0.38      0.52        39\n",
            "\n",
            "    accuracy                           0.35       360\n",
            "   macro avg       0.33      0.33      0.25       360\n",
            "weighted avg       0.34      0.35      0.27       360\n",
            "\n",
            "[[ 0  0  0  0  5 15  0 10  0  2]\n",
            " [ 0 19  0  3  0  4  0  2  0  1]\n",
            " [ 0  7  1  2  0 21  0  2  0  0]\n",
            " [ 0  7  0 13  0 12  0  1  0  0]\n",
            " [ 0  1  0  0  6  6  0 34  0  0]\n",
            " [ 0  0  0  0  0 43  0  6  0  0]\n",
            " [ 0 14  0  0  0 20  0  0  0  1]\n",
            " [ 0  1  0  0  0  4  0 29  0  0]\n",
            " [ 0  7  0  3  0 13  0  6  0  0]\n",
            " [ 0  1  1  4  0  6  0 12  0 15]]\n",
            "**************************************************\n"
          ]
        },
        {
          "output_type": "stream",
          "name": "stderr",
          "text": [
            "/usr/local/lib/python3.11/dist-packages/sklearn/metrics/_classification.py:1565: UndefinedMetricWarning: Precision is ill-defined and being set to 0.0 in labels with no predicted samples. Use `zero_division` parameter to control this behavior.\n",
            "  _warn_prf(average, modifier, f\"{metric.capitalize()} is\", len(result))\n",
            "/usr/local/lib/python3.11/dist-packages/sklearn/metrics/_classification.py:1565: UndefinedMetricWarning: Precision is ill-defined and being set to 0.0 in labels with no predicted samples. Use `zero_division` parameter to control this behavior.\n",
            "  _warn_prf(average, modifier, f\"{metric.capitalize()} is\", len(result))\n",
            "/usr/local/lib/python3.11/dist-packages/sklearn/metrics/_classification.py:1565: UndefinedMetricWarning: Precision is ill-defined and being set to 0.0 in labels with no predicted samples. Use `zero_division` parameter to control this behavior.\n",
            "  _warn_prf(average, modifier, f\"{metric.capitalize()} is\", len(result))\n"
          ]
        }
      ]
    },
    {
      "cell_type": "code",
      "source": [],
      "metadata": {
        "id": "WXZaHIwZWpep"
      },
      "execution_count": null,
      "outputs": []
    }
  ]
}